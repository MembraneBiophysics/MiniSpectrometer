{
 "cells": [
  {
   "cell_type": "markdown",
   "metadata": {},
   "source": [
    "# Controlls for the Arduino based Mini Spectrometer (serial version)\n",
    "### Version 1.0 - Updated 5 October 2023\n",
    "Nick Brooks - Department of Chemistry - Imperial College London"
   ]
  },
  {
   "cell_type": "code",
   "execution_count": null,
   "metadata": {},
   "outputs": [],
   "source": [
    "import spectrometer # Imports the required libraries, trys to install pyserial if required and opens the most recent serial port"
   ]
  },
  {
   "cell_type": "markdown",
   "metadata": {},
   "source": [
    "### Commands for general use"
   ]
  },
  {
   "cell_type": "code",
   "execution_count": null,
   "metadata": {},
   "outputs": [],
   "source": [
    "spectrometer.setLightBrightness(0) # Sets the brightness of the LED on a scale of 0 - 255"
   ]
  },
  {
   "cell_type": "code",
   "execution_count": null,
   "metadata": {},
   "outputs": [],
   "source": [
    "spectrometer.setIntegrationTime(600) # Sets the sensor integration time (approx 27.5 - 4000 ms in 27.5ms intervals)"
   ]
  },
  {
   "cell_type": "code",
   "execution_count": null,
   "metadata": {},
   "outputs": [],
   "source": [
    "spectrometer.setGain(64) # Sets the sensor gain (0.5, 1, 2, 4, 16, 32, 64, 128, 256 or 512)"
   ]
  },
  {
   "cell_type": "code",
   "execution_count": null,
   "metadata": {},
   "outputs": [],
   "source": [
    "spectrometer.read415() # Reads the light sensor and returns the 415nm light intensity"
   ]
  },
  {
   "cell_type": "code",
   "execution_count": null,
   "metadata": {},
   "outputs": [],
   "source": [
    "spectrometer.read445() # Reads the light sensor and returns the 445nm light intensity"
   ]
  },
  {
   "cell_type": "code",
   "execution_count": null,
   "metadata": {},
   "outputs": [],
   "source": [
    "spectrometer.read480() # Reads the light sensor and returns the 480nm light intensity"
   ]
  },
  {
   "cell_type": "code",
   "execution_count": null,
   "metadata": {},
   "outputs": [],
   "source": [
    "spectrometer.read515() # Reads the light sensor and returns the 515nm light intensity"
   ]
  },
  {
   "cell_type": "code",
   "execution_count": null,
   "metadata": {},
   "outputs": [],
   "source": [
    "spectrometer.read555() # Reads the light sensor and returns the 555nm light intensity"
   ]
  },
  {
   "cell_type": "code",
   "execution_count": null,
   "metadata": {},
   "outputs": [],
   "source": [
    "spectrometer.read590() # Reads the light sensor and returns the 590nm light intensity"
   ]
  },
  {
   "cell_type": "code",
   "execution_count": null,
   "metadata": {},
   "outputs": [],
   "source": [
    "spectrometer.read630() # Reads the light sensor and returns the 630nm light intensity"
   ]
  },
  {
   "cell_type": "code",
   "execution_count": null,
   "metadata": {},
   "outputs": [],
   "source": [
    "spectrometer.read680() # Reads the light sensor and returns the 680nm light intensity"
   ]
  },
  {
   "cell_type": "code",
   "execution_count": null,
   "metadata": {},
   "outputs": [],
   "source": [
    "spectrometer.readFull() # Reads the light sensor and returns the white light intensity"
   ]
  },
  {
   "cell_type": "code",
   "execution_count": null,
   "metadata": {},
   "outputs": [],
   "source": [
    "spectrometer.readNIR() # Reads the light sensor and returns the NIR light intensity"
   ]
  },
  {
   "cell_type": "code",
   "execution_count": null,
   "metadata": {},
   "outputs": [],
   "source": [
    "spectrometer.readAll() # Reads the sensor and returns all readings at the same time as a spectralSensorData class object\n",
    "# Note - if you want to read a full spectrum it is far quicker to use this command than to read each channel separately"
   ]
  },
  {
   "cell_type": "code",
   "execution_count": null,
   "metadata": {},
   "outputs": [],
   "source": [
    "data = spectrometer.readAll() # Reads the sensor and stores all readings as a spectralSensorData class object"
   ]
  },
  {
   "cell_type": "code",
   "execution_count": null,
   "metadata": {},
   "outputs": [],
   "source": [
    "data.nm415 # The 415nm data from a spectralSensorData class object called data\n",
    "data.nm445 # The 445nm data from a spectralSensorData class object called data\n",
    "data.nm480 # The 480nm data from a spectralSensorData class object called data\n",
    "data.nm515 # The 515nm data from a spectralSensorData class object called data\n",
    "data.nm555 # The 555nm data from a spectralSensorData class object called data\n",
    "data.nm590 # The 590nm data from a spectralSensorData class object called data\n",
    "data.nm630 # The 630nm data from a spectralSensorData class object called data\n",
    "data.nm680 # The 680nm data from a spectralSensorData class object called data\n",
    "data.full # The white spectrum brightness data from a spectralSensorData class object called data\n",
    "data.NIR # The NIR brightness data from a spectralSensorData class object called data"
   ]
  },
  {
   "cell_type": "code",
   "execution_count": null,
   "metadata": {},
   "outputs": [],
   "source": [
    "spectrometer.close() # Closes the serial port"
   ]
  },
  {
   "cell_type": "code",
   "execution_count": null,
   "metadata": {},
   "outputs": [],
   "source": [
    "spectrometer.setUpSerialPort() # Reopens the serial port if it has been closed"
   ]
  },
  {
   "cell_type": "markdown",
   "metadata": {},
   "source": [
    "### Commands that might be useful for diagnostics and setup"
   ]
  },
  {
   "cell_type": "code",
   "execution_count": null,
   "metadata": {},
   "outputs": [],
   "source": [
    "spectrometer.listSerialPorts() # Lists available serial ports"
   ]
  },
  {
   "cell_type": "code",
   "execution_count": null,
   "metadata": {},
   "outputs": [],
   "source": [
    "spectrometer.connectToSerialPort('/dev/cu.usbmodem141101') # Connects to a specific serial port - useful if you don't want to connect to the most recently added port"
   ]
  },
  {
   "cell_type": "code",
   "execution_count": null,
   "metadata": {},
   "outputs": [],
   "source": [
    "spectrometer.readNextLine() # Reads and prints the next line from the incoming serial connection"
   ]
  },
  {
   "cell_type": "code",
   "execution_count": null,
   "metadata": {},
   "outputs": [],
   "source": [
    "spectrometer.firmwareDetails() # Reads the spectrometer firmware version"
   ]
  },
  {
   "cell_type": "code",
   "execution_count": null,
   "metadata": {},
   "outputs": [],
   "source": [
    "spectrometer.sensorDetails() # Reads the spectral sensor details"
   ]
  }
 ],
 "metadata": {
  "kernelspec": {
   "display_name": "Python 3",
   "language": "python",
   "name": "python3"
  },
  "language_info": {
   "codemirror_mode": {
    "name": "ipython",
    "version": 3
   },
   "file_extension": ".py",
   "mimetype": "text/x-python",
   "name": "python",
   "nbconvert_exporter": "python",
   "pygments_lexer": "ipython3",
   "version": "3.7.6"
  }
 },
 "nbformat": 4,
 "nbformat_minor": 2
}
